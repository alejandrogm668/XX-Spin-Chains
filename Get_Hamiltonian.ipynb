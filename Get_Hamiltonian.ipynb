{
 "cells": [
  {
   "cell_type": "code",
   "execution_count": 4,
   "metadata": {},
   "outputs": [],
   "source": [
    "from Functions import *\n",
    "from sympy import Matrix\n",
    "import numpy as np"
   ]
  },
  {
   "cell_type": "code",
   "execution_count": 5,
   "metadata": {},
   "outputs": [
    {
     "data": {
      "text/plain": [
       "<16x16 sparse array of type '<class 'numpy.float64'>'\n",
       "\twith 34 stored elements in Compressed Sparse Column format>"
      ]
     },
     "execution_count": 5,
     "metadata": {},
     "output_type": "execute_result"
    }
   ],
   "source": [
    "n_sites = 4\n",
    "h = 1.0\n",
    "J = 1.0\n",
    "\n",
    "sh = 2**n_sites # Shape\n",
    "\n",
    "# Planar Hamiltonian\n",
    "row_xy, column_xy = get_rows_columns(n_sites)\n",
    "data_xy = np.full((1,len(row_xy)),2.0*J).flatten()\n",
    "H_xy = csc_array((data_xy, (row_xy,column_xy)), shape=(sh, sh))\n",
    "\n",
    "# Transverse Hamiltonian\n",
    "data_z = -h*get_diagonal_sign(n_sites)\n",
    "row_z = np.arange(sh)\n",
    "H_z = csc_array((data_z, (row_z,row_z)), shape=(sh, sh))\n",
    "\n",
    "# Total Hamiltonian\n",
    "H = H_xy + H_z\n",
    "H"
   ]
  },
  {
   "cell_type": "code",
   "execution_count": 6,
   "metadata": {},
   "outputs": [
    {
     "data": {
      "text/latex": [
       "$\\displaystyle \\left[\\begin{array}{cccccccccccccccc}-4.0 & 0 & 0 & 0 & 0 & 0 & 0 & 0 & 0 & 0 & 0 & 0 & 0 & 0 & 0 & 0\\\\0 & -2.0 & 2.0 & 0 & 0 & 0 & 0 & 0 & 0 & 0 & 0 & 0 & 0 & 0 & 0 & 0\\\\0 & 2.0 & -2.0 & 0 & 2.0 & 0 & 0 & 0 & 0 & 0 & 0 & 0 & 0 & 0 & 0 & 0\\\\0 & 0 & 0 & 0 & 0 & 2.0 & 0 & 0 & 0 & 0 & 0 & 0 & 0 & 0 & 0 & 0\\\\0 & 0 & 2.0 & 0 & -2.0 & 0 & 0 & 0 & 2.0 & 0 & 0 & 0 & 0 & 0 & 0 & 0\\\\0 & 0 & 0 & 2.0 & 0 & 0 & 2.0 & 0 & 0 & 2.0 & 0 & 0 & 0 & 0 & 0 & 0\\\\0 & 0 & 0 & 0 & 0 & 2.0 & 0 & 0 & 0 & 0 & 2.0 & 0 & 0 & 0 & 0 & 0\\\\0 & 0 & 0 & 0 & 0 & 0 & 0 & 2.0 & 0 & 0 & 0 & 2.0 & 0 & 0 & 0 & 0\\\\0 & 0 & 0 & 0 & 2.0 & 0 & 0 & 0 & -2.0 & 0 & 0 & 0 & 0 & 0 & 0 & 0\\\\0 & 0 & 0 & 0 & 0 & 2.0 & 0 & 0 & 0 & 0 & 2.0 & 0 & 0 & 0 & 0 & 0\\\\0 & 0 & 0 & 0 & 0 & 0 & 2.0 & 0 & 0 & 2.0 & 0 & 0 & 2.0 & 0 & 0 & 0\\\\0 & 0 & 0 & 0 & 0 & 0 & 0 & 2.0 & 0 & 0 & 0 & 2.0 & 0 & 2.0 & 0 & 0\\\\0 & 0 & 0 & 0 & 0 & 0 & 0 & 0 & 0 & 0 & 2.0 & 0 & 0 & 0 & 0 & 0\\\\0 & 0 & 0 & 0 & 0 & 0 & 0 & 0 & 0 & 0 & 0 & 2.0 & 0 & 2.0 & 2.0 & 0\\\\0 & 0 & 0 & 0 & 0 & 0 & 0 & 0 & 0 & 0 & 0 & 0 & 0 & 2.0 & 2.0 & 0\\\\0 & 0 & 0 & 0 & 0 & 0 & 0 & 0 & 0 & 0 & 0 & 0 & 0 & 0 & 0 & 4.0\\end{array}\\right]$"
      ],
      "text/plain": [
       "Matrix([\n",
       "[-4.0,    0,    0,   0,    0,   0,   0,   0,    0,   0,   0,   0,   0,   0,   0,   0],\n",
       "[   0, -2.0,  2.0,   0,    0,   0,   0,   0,    0,   0,   0,   0,   0,   0,   0,   0],\n",
       "[   0,  2.0, -2.0,   0,  2.0,   0,   0,   0,    0,   0,   0,   0,   0,   0,   0,   0],\n",
       "[   0,    0,    0,   0,    0, 2.0,   0,   0,    0,   0,   0,   0,   0,   0,   0,   0],\n",
       "[   0,    0,  2.0,   0, -2.0,   0,   0,   0,  2.0,   0,   0,   0,   0,   0,   0,   0],\n",
       "[   0,    0,    0, 2.0,    0,   0, 2.0,   0,    0, 2.0,   0,   0,   0,   0,   0,   0],\n",
       "[   0,    0,    0,   0,    0, 2.0,   0,   0,    0,   0, 2.0,   0,   0,   0,   0,   0],\n",
       "[   0,    0,    0,   0,    0,   0,   0, 2.0,    0,   0,   0, 2.0,   0,   0,   0,   0],\n",
       "[   0,    0,    0,   0,  2.0,   0,   0,   0, -2.0,   0,   0,   0,   0,   0,   0,   0],\n",
       "[   0,    0,    0,   0,    0, 2.0,   0,   0,    0,   0, 2.0,   0,   0,   0,   0,   0],\n",
       "[   0,    0,    0,   0,    0,   0, 2.0,   0,    0, 2.0,   0,   0, 2.0,   0,   0,   0],\n",
       "[   0,    0,    0,   0,    0,   0,   0, 2.0,    0,   0,   0, 2.0,   0, 2.0,   0,   0],\n",
       "[   0,    0,    0,   0,    0,   0,   0,   0,    0,   0, 2.0,   0,   0,   0,   0,   0],\n",
       "[   0,    0,    0,   0,    0,   0,   0,   0,    0,   0,   0, 2.0,   0, 2.0, 2.0,   0],\n",
       "[   0,    0,    0,   0,    0,   0,   0,   0,    0,   0,   0,   0,   0, 2.0, 2.0,   0],\n",
       "[   0,    0,    0,   0,    0,   0,   0,   0,    0,   0,   0,   0,   0,   0,   0, 4.0]])"
      ]
     },
     "execution_count": 6,
     "metadata": {},
     "output_type": "execute_result"
    }
   ],
   "source": [
    "Matrix(H.toarray())"
   ]
  },
  {
   "cell_type": "code",
   "execution_count": 7,
   "metadata": {},
   "outputs": [],
   "source": [
    "def get_sparse_pure_hamiltonian(n_sites,J,h):\n",
    "    \n",
    "    sh = 2**n_sites # Shape\n",
    "    \n",
    "    row_xy, column_xy = get_rows_columns(n_sites)\n",
    "    data_xy = np.full((1,len(row_xy)),2.0*J).flatten()\n",
    "    H_xy = csc_array((data_xy, (row_xy,column_xy)), shape=(sh, sh))\n",
    "\n",
    "    data_z = -h*get_diagonal_sign(n_sites)\n",
    "    row_z = np.arange(sh)\n",
    "    H_z = csc_array((data_z, (row_z,row_z)), shape=(sh, sh))\n",
    "\n",
    "    return H_xy + H_z       "
   ]
  },
  {
   "cell_type": "code",
   "execution_count": 15,
   "metadata": {},
   "outputs": [
    {
     "data": {
      "text/latex": [
       "$\\displaystyle \\left[\\begin{matrix}-3.0 & 0 & 0 & 0 & 0 & 0 & 0 & 0\\\\0 & -1.0 & 2.0 & 0 & 0 & 0 & 0 & 0\\\\0 & 2.0 & -1.0 & 0 & 2.0 & 0 & 0 & 0\\\\0 & 0 & 0 & 1.0 & 0 & 2.0 & 0 & 0\\\\0 & 0 & 2.0 & 0 & -1.0 & 0 & 0 & 0\\\\0 & 0 & 0 & 2.0 & 0 & 1.0 & 2.0 & 0\\\\0 & 0 & 0 & 0 & 0 & 2.0 & 1.0 & 0\\\\0 & 0 & 0 & 0 & 0 & 0 & 0 & 3.0\\end{matrix}\\right]$"
      ],
      "text/plain": [
       "Matrix([\n",
       "[-3.0,    0,    0,   0,    0,   0,   0,   0],\n",
       "[   0, -1.0,  2.0,   0,    0,   0,   0,   0],\n",
       "[   0,  2.0, -1.0,   0,  2.0,   0,   0,   0],\n",
       "[   0,    0,    0, 1.0,    0, 2.0,   0,   0],\n",
       "[   0,    0,  2.0,   0, -1.0,   0,   0,   0],\n",
       "[   0,    0,    0, 2.0,    0, 1.0, 2.0,   0],\n",
       "[   0,    0,    0,   0,    0, 2.0, 1.0,   0],\n",
       "[   0,    0,    0,   0,    0,   0,   0, 3.0]])"
      ]
     },
     "execution_count": 15,
     "metadata": {},
     "output_type": "execute_result"
    }
   ],
   "source": [
    "Matrix(get_sparse_pure_hamiltonian(3,1.0,1.0).toarray())"
   ]
  }
 ],
 "metadata": {
  "kernelspec": {
   "display_name": "Python 3",
   "language": "python",
   "name": "python3"
  },
  "language_info": {
   "codemirror_mode": {
    "name": "ipython",
    "version": 3
   },
   "file_extension": ".py",
   "mimetype": "text/x-python",
   "name": "python",
   "nbconvert_exporter": "python",
   "pygments_lexer": "ipython3",
   "version": "3.8.5"
  }
 },
 "nbformat": 4,
 "nbformat_minor": 4
}
